{
  "nbformat": 4,
  "nbformat_minor": 0,
  "metadata": {
    "colab": {
      "provenance": []
    },
    "kernelspec": {
      "name": "python3",
      "display_name": "Python 3"
    },
    "language_info": {
      "name": "python"
    }
  },
  "cells": [
    {
      "cell_type": "markdown",
      "source": [
        "1) Write a function is_even(n) that returns True if the number is even, otherwise False.\n",
        "\n",
        "2) Write a function is_prime(n) that checks if a number is prime. (*A prime number is a natural number greater than 1 that has no positive divisors other than 1 and itself. In other words, a prime number is only divisible by 1 and itself without leaving a remainder. Examples of prime numbers include 2, 3, 5, 7, 11, 13, 17, and so on.*)\n",
        "\n",
        "3) Write a  Python function to multiply all the numbers in a list.\n",
        "\n",
        "\n",
        "```\n",
        "Sample List : (8, 2, 3, -1, 7)\n",
        "Expected Output : -336\n",
        "```\n",
        "\n",
        "4) Write a Python function that accepts a string and counts the number of upper and lower case letters.\n",
        "\n",
        "```\n",
        "Sample String : 'The quick Brow Fox'\n",
        "Expected Output :\n",
        "No. of Upper case characters : 3\n",
        "No. of Lower case Characters : 12\n",
        "```\n",
        "\n",
        "5) Write a  Python function to create and print a list where the values are the squares of numbers between 1 and 30 (both included).\n",
        "\n",
        "6) Write a function to check if a given number is an Armstrong number or not.\n",
        "\n",
        "7) Write a function that calculates the sum of digits of a given number.\n",
        "\n",
        "8) Write a function that finds the number of divisors of a given number.\n",
        "\n",
        "9) Write a function called fuel_cost that takes a distance as a required argument, km (default 50 km) and fuel cost (default $1 a litre) as optional arguments. The function should return the cost in dollars.\n",
        "\n",
        "10) Write a function called hcf (ƏBOB) that takes 2 integer values and returns the highest common factor of the numbers.\n",
        "\n"
      ],
      "metadata": {
        "id": "Bk0TIJb3ERrI"
      }
    },
    {
      "cell_type": "code",
      "source": [
        "#Task 1\n",
        "def is_even(n):\n",
        "  if n % 2 == 0:\n",
        "    return True\n",
        "  else:\n",
        "    return False\n",
        "is_even(int(input()))"
      ],
      "metadata": {
        "colab": {
          "base_uri": "https://localhost:8080/"
        },
        "id": "EHFfScnYfiz8",
        "outputId": "c9f4f6e0-247f-43fb-c421-eb1bdfe4d27e"
      },
      "execution_count": null,
      "outputs": [
        {
          "name": "stdout",
          "output_type": "stream",
          "text": [
            "num: 456\n"
          ]
        },
        {
          "output_type": "execute_result",
          "data": {
            "text/plain": [
              "True"
            ]
          },
          "metadata": {},
          "execution_count": 2
        }
      ]
    },
    {
      "cell_type": "code",
      "source": [
        "#Task 2\n",
        "def is_prime(n):\n",
        "  for i in range(2, n):\n",
        "    if n % i == 0:\n",
        "      return \"It's not prime\"\n",
        "    else:\n",
        "      return \"It's prime\"\n",
        "is_prime(int(input()))"
      ],
      "metadata": {
        "colab": {
          "base_uri": "https://localhost:8080/",
          "height": 52
        },
        "id": "Eb9JwkPcgU4v",
        "outputId": "36c510ed-84f8-4dc4-bde8-7bd6864a585b"
      },
      "execution_count": null,
      "outputs": [
        {
          "name": "stdout",
          "output_type": "stream",
          "text": [
            "8908\n"
          ]
        },
        {
          "output_type": "execute_result",
          "data": {
            "text/plain": [
              "\"It's not prime\""
            ],
            "application/vnd.google.colaboratory.intrinsic+json": {
              "type": "string"
            }
          },
          "metadata": {},
          "execution_count": 6
        }
      ]
    },
    {
      "cell_type": "code",
      "source": [
        "#Task 3\n",
        "def multiply(list1):\n",
        "  x = 1\n",
        "  for i in list1:\n",
        "    x = x * i\n",
        "  return x\n",
        "list1=(8, 2, 3, -1, 7)\n",
        "multiply(list1)"
      ],
      "metadata": {
        "colab": {
          "base_uri": "https://localhost:8080/"
        },
        "id": "KGoJHkrCicET",
        "outputId": "ce866e70-d183-4d40-b036-89a7f7317091"
      },
      "execution_count": null,
      "outputs": [
        {
          "output_type": "execute_result",
          "data": {
            "text/plain": [
              "-336"
            ]
          },
          "metadata": {},
          "execution_count": 28
        }
      ]
    },
    {
      "cell_type": "code",
      "source": [
        "#Task 4\n",
        "def letters(str):\n",
        "  a = 0\n",
        "  b = 0\n",
        "  for i in str:\n",
        "    if i.islower():\n",
        "      a += 1\n",
        "    elif i.isupper():\n",
        "      b += 1\n",
        "  print('Upper case characters:',b)\n",
        "  print('Lower case characters:',a)\n",
        "letters(input())"
      ],
      "metadata": {
        "colab": {
          "base_uri": "https://localhost:8080/"
        },
        "id": "PegfT_ritbra",
        "outputId": "2c63f789-492e-49ea-d73f-8831af7a8e8d"
      },
      "execution_count": 33,
      "outputs": [
        {
          "output_type": "stream",
          "name": "stdout",
          "text": [
            "ufhufihf WFCQIOHNIJXJ\n",
            "upper case 12\n",
            "lower case 8\n"
          ]
        }
      ]
    },
    {
      "cell_type": "code",
      "source": [
        "#Task 5\n",
        "def squares(n):\n",
        "  for i in range(1, n+1):\n",
        "    print(f\"{i}^{2}={i**2}\")\n",
        "squares(30)\n"
      ],
      "metadata": {
        "colab": {
          "base_uri": "https://localhost:8080/"
        },
        "id": "BZlTFVmdw2Sm",
        "outputId": "de3ca72f-f357-41a9-dfc4-e3541ce38c53"
      },
      "execution_count": 41,
      "outputs": [
        {
          "output_type": "stream",
          "name": "stdout",
          "text": [
            "1^2=1\n",
            "2^2=4\n",
            "3^2=9\n",
            "4^2=16\n",
            "5^2=25\n",
            "6^2=36\n",
            "7^2=49\n",
            "8^2=64\n",
            "9^2=81\n",
            "10^2=100\n",
            "11^2=121\n",
            "12^2=144\n",
            "13^2=169\n",
            "14^2=196\n",
            "15^2=225\n",
            "16^2=256\n",
            "17^2=289\n",
            "18^2=324\n",
            "19^2=361\n",
            "20^2=400\n",
            "21^2=441\n",
            "22^2=484\n",
            "23^2=529\n",
            "24^2=576\n",
            "25^2=625\n",
            "26^2=676\n",
            "27^2=729\n",
            "28^2=784\n",
            "29^2=841\n",
            "30^2=900\n"
          ]
        }
      ]
    },
    {
      "cell_type": "code",
      "source": [
        "#Task 6 !!!\n",
        "def armstrong():\n",
        "  n = int(input())\n",
        "  x = len(str(n))\n",
        "  while n > 0:\n",
        "    a = n % 10\n",
        "\n",
        "print(7%10)\n"
      ],
      "metadata": {
        "colab": {
          "base_uri": "https://localhost:8080/"
        },
        "id": "2S-Cjp5Jz98a",
        "outputId": "571ce668-310f-4efb-8358-3eb16fd90dd1"
      },
      "execution_count": 54,
      "outputs": [
        {
          "output_type": "stream",
          "name": "stdout",
          "text": [
            "7\n"
          ]
        }
      ]
    },
    {
      "cell_type": "code",
      "source": [
        "#Task 7\n",
        "def digits(n):\n",
        "  sum = 0\n",
        "  while n > 0:\n",
        "    a = n % 10\n",
        "    sum += a\n",
        "    n //= 10\n",
        "  print(sum)\n",
        "\n",
        "digits(int(input()))\n"
      ],
      "metadata": {
        "colab": {
          "base_uri": "https://localhost:8080/"
        },
        "id": "DU33tfE69tiH",
        "outputId": "8300f754-d612-47b9-bd0d-9bd4ca636081"
      },
      "execution_count": 4,
      "outputs": [
        {
          "output_type": "stream",
          "name": "stdout",
          "text": [
            "576987\n",
            "42\n"
          ]
        }
      ]
    },
    {
      "cell_type": "code",
      "source": [
        "#Task 8\n",
        "def divisors(n):\n",
        "  d = 0\n",
        "  for i in range(1, n + 1):\n",
        "    if n % i == 0:\n",
        "      d +=1\n",
        "  print(d)\n",
        "divisors(int(input()))\n"
      ],
      "metadata": {
        "colab": {
          "base_uri": "https://localhost:8080/"
        },
        "id": "T_gUEseOJ34H",
        "outputId": "4876ba83-7552-42f0-b824-8e9e6b6d201a"
      },
      "execution_count": 14,
      "outputs": [
        {
          "output_type": "stream",
          "name": "stdout",
          "text": [
            "20\n",
            "6\n"
          ]
        }
      ]
    },
    {
      "cell_type": "code",
      "source": [
        "#Task 9 !\n",
        "def fuel_cost(km = 50, cost = 1):\n",
        "  a = 'Total cost:'\n",
        "  return km*cost\n",
        "print(f'Total cost: {fuel_cost()}$')"
      ],
      "metadata": {
        "colab": {
          "base_uri": "https://localhost:8080/"
        },
        "id": "UdtP_ZPbMb1X",
        "outputId": "176fcbe6-0c32-4ecd-8a28-8a549a107497"
      },
      "execution_count": 33,
      "outputs": [
        {
          "output_type": "stream",
          "name": "stdout",
          "text": [
            "Total cost: 50$\n"
          ]
        }
      ]
    },
    {
      "cell_type": "code",
      "source": [
        "#Task 10 !\n",
        "def hcf(a, b):\n",
        "  if a > b:\n",
        "    small = b\n",
        "  else:\n",
        "    small = a\n",
        "  for i in range(1,small+1):\n",
        "    if a % i == 0 and b % i == 0:\n",
        "      hcf = i\n",
        "  print(f\"HCF is:\",hcf)\n",
        "hcf(int(input()), int(input()))"
      ],
      "metadata": {
        "colab": {
          "base_uri": "https://localhost:8080/"
        },
        "id": "R8Nq2OihUnTl",
        "outputId": "d41e2ad8-5466-47d4-cb04-d7d445a0aa4e"
      },
      "execution_count": 44,
      "outputs": [
        {
          "output_type": "stream",
          "name": "stdout",
          "text": [
            "120\n",
            "80\n",
            "HCF is: 40\n"
          ]
        }
      ]
    }
  ]
}